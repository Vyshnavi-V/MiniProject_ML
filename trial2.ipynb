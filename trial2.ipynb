{
 "cells": [
  {
   "cell_type": "code",
   "execution_count": 2,
   "id": "daa0fe1e-2b4a-4930-863a-8f498ebc5d52",
   "metadata": {},
   "outputs": [],
   "source": [
    "import pandas as pd\n",
    "import numpy as np\n",
    "from sklearn.linear_model import LogisticRegression\n",
    "from sklearn.model_selection import train_test_split\n",
    "from sklearn.feature_extraction.text import CountVectorizer\n"
   ]
  },
  {
   "cell_type": "code",
   "execution_count": 3,
   "id": "4b07f390-e493-437c-b92a-befe53ccd82a",
   "metadata": {},
   "outputs": [],
   "source": [
    "# Sample list of disease symptoms\n",
    "symptoms = [\n",
    "    \"Fever, Cough, Shortness of breath\",\n",
    "    \"Headache, Fatigue\",\n",
    "    \"Sore throat, Runny nose, Sneezing\",\n",
    "    \"Fever, Chills, Muscle pain\",\n",
    "    \"Increased thirst, Frequent urination\",\n",
    "    \"High blood pressure\",\n",
    "    \"Wheezing, Shortness of breath\",\n",
    "    \"Severe diarrhea, Vomiting\",\n",
    "    \"Chest pain, Difficulty breathing\",\n",
    "    \"Rash, Itching\",\n",
    "]\n",
    "\n",
    "# Sample list of priority levels (1 for high, 2 for medium, 3 for low)\n",
    "priority_levels = [1, 2, 2, 1, 3, 1, 2, 1, 1, 2]\n",
    "\n",
    "# Create a dictionary with symptoms and priority levels\n",
    "data = {\n",
    "    'Symptoms': symptoms,\n",
    "    'Priority_Level': priority_levels\n",
    "}\n",
    "\n",
    "# Create a DataFrame using pandas\n",
    "df = pd.DataFrame(data)"
   ]
  },
  {
   "cell_type": "code",
   "execution_count": 4,
   "id": "df656429-0fb0-44ea-9cd0-5bad2e7f1853",
   "metadata": {},
   "outputs": [
    {
     "name": "stdout",
     "output_type": "stream",
     "text": [
      "                               Symptoms  Priority_Level\n",
      "0     Fever, Cough, Shortness of breath               1\n",
      "1                     Headache, Fatigue               2\n",
      "2     Sore throat, Runny nose, Sneezing               2\n",
      "3            Fever, Chills, Muscle pain               1\n",
      "4  Increased thirst, Frequent urination               3\n",
      "5                   High blood pressure               1\n",
      "6         Wheezing, Shortness of breath               2\n",
      "7             Severe diarrhea, Vomiting               1\n",
      "8      Chest pain, Difficulty breathing               1\n",
      "9                         Rash, Itching               2\n"
     ]
    }
   ],
   "source": [
    "print(df)\n"
   ]
  },
  {
   "cell_type": "code",
   "execution_count": 5,
   "id": "e640e35f-3ece-458c-adb9-366ff632ccb8",
   "metadata": {},
   "outputs": [],
   "source": [
    "# Initialize the CountVectorizer\n",
    "vectorizer = CountVectorizer()\n",
    "\n",
    "# Fit and transform the symptoms to a bag-of-words representation\n",
    "X = vectorizer.fit_transform(df['Symptoms'])\n",
    "\n",
    "# Split the data into features (X) and target (y)\n",
    "y = df['Priority_Level']\n",
    "\n",
    "# Split the data into training and testing sets\n",
    "X_train, X_test, y_train, y_test = train_test_split(X, y, test_size=0.2, random_state=42)\n"
   ]
  },
  {
   "cell_type": "code",
   "execution_count": 6,
   "id": "17b8af65-471b-42df-94e8-70051c06c0b8",
   "metadata": {},
   "outputs": [
    {
     "data": {
      "text/html": [
       "<style>#sk-container-id-1 {color: black;}#sk-container-id-1 pre{padding: 0;}#sk-container-id-1 div.sk-toggleable {background-color: white;}#sk-container-id-1 label.sk-toggleable__label {cursor: pointer;display: block;width: 100%;margin-bottom: 0;padding: 0.3em;box-sizing: border-box;text-align: center;}#sk-container-id-1 label.sk-toggleable__label-arrow:before {content: \"▸\";float: left;margin-right: 0.25em;color: #696969;}#sk-container-id-1 label.sk-toggleable__label-arrow:hover:before {color: black;}#sk-container-id-1 div.sk-estimator:hover label.sk-toggleable__label-arrow:before {color: black;}#sk-container-id-1 div.sk-toggleable__content {max-height: 0;max-width: 0;overflow: hidden;text-align: left;background-color: #f0f8ff;}#sk-container-id-1 div.sk-toggleable__content pre {margin: 0.2em;color: black;border-radius: 0.25em;background-color: #f0f8ff;}#sk-container-id-1 input.sk-toggleable__control:checked~div.sk-toggleable__content {max-height: 200px;max-width: 100%;overflow: auto;}#sk-container-id-1 input.sk-toggleable__control:checked~label.sk-toggleable__label-arrow:before {content: \"▾\";}#sk-container-id-1 div.sk-estimator input.sk-toggleable__control:checked~label.sk-toggleable__label {background-color: #d4ebff;}#sk-container-id-1 div.sk-label input.sk-toggleable__control:checked~label.sk-toggleable__label {background-color: #d4ebff;}#sk-container-id-1 input.sk-hidden--visually {border: 0;clip: rect(1px 1px 1px 1px);clip: rect(1px, 1px, 1px, 1px);height: 1px;margin: -1px;overflow: hidden;padding: 0;position: absolute;width: 1px;}#sk-container-id-1 div.sk-estimator {font-family: monospace;background-color: #f0f8ff;border: 1px dotted black;border-radius: 0.25em;box-sizing: border-box;margin-bottom: 0.5em;}#sk-container-id-1 div.sk-estimator:hover {background-color: #d4ebff;}#sk-container-id-1 div.sk-parallel-item::after {content: \"\";width: 100%;border-bottom: 1px solid gray;flex-grow: 1;}#sk-container-id-1 div.sk-label:hover label.sk-toggleable__label {background-color: #d4ebff;}#sk-container-id-1 div.sk-serial::before {content: \"\";position: absolute;border-left: 1px solid gray;box-sizing: border-box;top: 0;bottom: 0;left: 50%;z-index: 0;}#sk-container-id-1 div.sk-serial {display: flex;flex-direction: column;align-items: center;background-color: white;padding-right: 0.2em;padding-left: 0.2em;position: relative;}#sk-container-id-1 div.sk-item {position: relative;z-index: 1;}#sk-container-id-1 div.sk-parallel {display: flex;align-items: stretch;justify-content: center;background-color: white;position: relative;}#sk-container-id-1 div.sk-item::before, #sk-container-id-1 div.sk-parallel-item::before {content: \"\";position: absolute;border-left: 1px solid gray;box-sizing: border-box;top: 0;bottom: 0;left: 50%;z-index: -1;}#sk-container-id-1 div.sk-parallel-item {display: flex;flex-direction: column;z-index: 1;position: relative;background-color: white;}#sk-container-id-1 div.sk-parallel-item:first-child::after {align-self: flex-end;width: 50%;}#sk-container-id-1 div.sk-parallel-item:last-child::after {align-self: flex-start;width: 50%;}#sk-container-id-1 div.sk-parallel-item:only-child::after {width: 0;}#sk-container-id-1 div.sk-dashed-wrapped {border: 1px dashed gray;margin: 0 0.4em 0.5em 0.4em;box-sizing: border-box;padding-bottom: 0.4em;background-color: white;}#sk-container-id-1 div.sk-label label {font-family: monospace;font-weight: bold;display: inline-block;line-height: 1.2em;}#sk-container-id-1 div.sk-label-container {text-align: center;}#sk-container-id-1 div.sk-container {/* jupyter's `normalize.less` sets `[hidden] { display: none; }` but bootstrap.min.css set `[hidden] { display: none !important; }` so we also need the `!important` here to be able to override the default hidden behavior on the sphinx rendered scikit-learn.org. See: https://github.com/scikit-learn/scikit-learn/issues/21755 */display: inline-block !important;position: relative;}#sk-container-id-1 div.sk-text-repr-fallback {display: none;}</style><div id=\"sk-container-id-1\" class=\"sk-top-container\"><div class=\"sk-text-repr-fallback\"><pre>LogisticRegression()</pre><b>In a Jupyter environment, please rerun this cell to show the HTML representation or trust the notebook. <br />On GitHub, the HTML representation is unable to render, please try loading this page with nbviewer.org.</b></div><div class=\"sk-container\" hidden><div class=\"sk-item\"><div class=\"sk-estimator sk-toggleable\"><input class=\"sk-toggleable__control sk-hidden--visually\" id=\"sk-estimator-id-1\" type=\"checkbox\" checked><label for=\"sk-estimator-id-1\" class=\"sk-toggleable__label sk-toggleable__label-arrow\">LogisticRegression</label><div class=\"sk-toggleable__content\"><pre>LogisticRegression()</pre></div></div></div></div></div>"
      ],
      "text/plain": [
       "LogisticRegression()"
      ]
     },
     "execution_count": 6,
     "metadata": {},
     "output_type": "execute_result"
    }
   ],
   "source": [
    "# Initialize the logistic regression model\n",
    "model = LogisticRegression()\n",
    "\n",
    "# Train the model using the training data\n",
    "model.fit(X_train, y_train)\n"
   ]
  },
  {
   "cell_type": "code",
   "execution_count": 7,
   "id": "0b7884a6-485a-466e-bc09-1b1855b02490",
   "metadata": {},
   "outputs": [],
   "source": [
    "# Make predictions on the test set\n",
    "y_pred = model.predict(X_test)\n"
   ]
  },
  {
   "cell_type": "code",
   "execution_count": 8,
   "id": "efa4c688-4467-4492-b000-414638407ef2",
   "metadata": {},
   "outputs": [],
   "source": [
    "# Convert the X_test sparse matrix to a DataFrame\n",
    "X_test_df = pd.DataFrame(X_test.toarray(), columns=vectorizer.get_feature_names_out())"
   ]
  },
  {
   "cell_type": "code",
   "execution_count": 9,
   "id": "e2c2a315-eebe-413d-8941-b479ff2dcbea",
   "metadata": {},
   "outputs": [],
   "source": [
    "# Get the appointment booking time as the index of the test set DataFrame\n",
    "appointment_times = X_test_df.index"
   ]
  },
  {
   "cell_type": "code",
   "execution_count": 10,
   "id": "9bc15bfd-8d14-4771-861a-3d2747ef39df",
   "metadata": {},
   "outputs": [],
   "source": [
    "# Create a DataFrame with the symptoms, predicted priority levels, and appointment booking time\n",
    "X_test_with_time = pd.DataFrame({\n",
    "    'Symptoms': df.loc[X_test_df.index, 'Symptoms'],\n",
    "    'Predicted_Priority': y_pred,\n",
    "    'Appointment_Time': appointment_times\n",
    "})\n"
   ]
  },
  {
   "cell_type": "code",
   "execution_count": 11,
   "id": "cfe3ddf8-52dd-4fb0-91dc-c7dea2dfddec",
   "metadata": {},
   "outputs": [],
   "source": [
    "# Sort the test set by predicted priority levels and appointment booking time\n",
    "X_test_with_time = X_test_with_time.sort_values(by=['Predicted_Priority', 'Appointment_Time'])\n"
   ]
  },
  {
   "cell_type": "code",
   "execution_count": 12,
   "id": "1f34e1d5-cd86-452c-9739-fe3b0cdb3368",
   "metadata": {},
   "outputs": [],
   "source": [
    "# Assign tokens based on the order of booking\n",
    "X_test_with_time['Token'] = range(1, len(X_test_with_time) + 1)\n"
   ]
  },
  {
   "cell_type": "code",
   "execution_count": 13,
   "id": "ab1da65a-b069-43d3-bc92-604784c4a1df",
   "metadata": {},
   "outputs": [
    {
     "name": "stdout",
     "output_type": "stream",
     "text": [
      "                            Symptoms  Predicted_Priority  Token\n",
      "0  Fever, Cough, Shortness of breath                   1      1\n",
      "1                  Headache, Fatigue                   1      2\n"
     ]
    }
   ],
   "source": [
    "print(X_test_with_time[['Symptoms', 'Predicted_Priority', 'Token']])"
   ]
  },
  {
   "cell_type": "code",
   "execution_count": null,
   "id": "8b9020ca",
   "metadata": {},
   "outputs": [],
   "source": []
  }
 ],
 "metadata": {
  "kernelspec": {
   "display_name": "Python 3 (ipykernel)",
   "language": "python",
   "name": "python3"
  },
  "language_info": {
   "codemirror_mode": {
    "name": "ipython",
    "version": 3
   },
   "file_extension": ".py",
   "mimetype": "text/x-python",
   "name": "python",
   "nbconvert_exporter": "python",
   "pygments_lexer": "ipython3",
   "version": "3.10.6"
  }
 },
 "nbformat": 4,
 "nbformat_minor": 5
}
