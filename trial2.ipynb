{
 "cells": [
  {
   "cell_type": "code",
   "execution_count": 24,
   "id": "daa0fe1e-2b4a-4930-863a-8f498ebc5d52",
   "metadata": {},
   "outputs": [],
   "source": [
    "import pandas as pd\n",
    "import numpy as np\n",
    "from sklearn.linear_model import LogisticRegression\n",
    "from sklearn.model_selection import train_test_split\n",
    "from sklearn.feature_extraction.text import CountVectorizer\n",
    "import random\n",
    "\n"
   ]
  },
  {
   "cell_type": "code",
   "execution_count": 53,
   "id": "4b07f390-e493-437c-b92a-befe53ccd82a",
   "metadata": {},
   "outputs": [
    {
     "name": "stdout",
     "output_type": "stream",
     "text": [
      "122\n"
     ]
    }
   ],
   "source": [
    "\n",
    "symptoms = [\n",
    "    \"Fever\", \"Cough\", \"Headache\", \"Fatigue\", \"Sore Throat\",\n",
    "    \"Shortness of Breath\", \"Muscle Pain\", \"Chills\", \"Loss of Taste\",\n",
    "    \"Loss of Smell\", \"Nausea\", \"Vomiting\", \"Diarrhea\", \"Abdominal Pain\",\n",
    "    \"Rash\", \"Chest Pain\", \"Dizziness\", \"Confusion\", \"Swollen Lymph Nodes\",\n",
    "    \"Joint Pain\", \"Blurred Vision\", \"Seizures\", \"Difficulty Swallowing\",\n",
    "    \"Difficulty Breathing\", \"Irritability\", \"Memory Problems\", \"Back Pain\",\n",
    "    \"Frequent Urination\", \"Night Sweats\", \"Unintended Weight Loss\",\n",
    "    \"Excessive Thirst\", \"Excessive Hunger\", \"Frequent Infections\",\n",
    "    \"Bruising Easily\", \"Unexplained Bleeding\", \"Swollen Joints\",\n",
    "    \"Chest Tightness\", \"Pale Skin\", \"Cold Hands and Feet\", \"Hair Loss\",\n",
    "    \"Frequent Headaches\", \"Nosebleeds\", \"Frequent Sore Throat\",\n",
    "    \"Weakness\", \"Yellowing of the Skin and Eyes (Jaundice)\",\n",
    "    \"Swollen Abdomen\", \"Itchy Skin\", \"Swollen Glands\", \"Frequent Fever\",\n",
    "    \"Frequent Chills\", \"Muscle Weakness\", \"Dry Cough\", \"Wheezing\",\n",
    "    \"Blood in Urine\", \"Difficulty Urinating\", \"Dribbling Urine\",\n",
    "    \"Testicular Pain\", \"Erectile Dysfunction\", \"Abnormal Vaginal Discharge\",\n",
    "    \"Painful Intercourse\", \"Irregular Menstrual Periods\",\n",
    "    \"Unexplained Infertility\", \"Lower Back Pain\", \"Pelvic Pain\",\n",
    "    \"Frequent Hiccups\", \"Difficulty Speaking\", \"Slurred Speech\",\n",
    "    \"Tremors\", \"Stiffness\", \"Loss of Balance\", \"Depression\",\n",
    "    \"Anxiety\", \"Mood Swings\", \"Sleep Problems\", \"Feeling Hopeless\",\n",
    "    \"Loss of Interest\", \"Suicidal Thoughts\", \"Agitation\",\n",
    "    \"Poor Concentration\", \"Panic Attacks\", \"Rapid Heartbeat\",\n",
    "    \"Chest Discomfort\", \"Numbness or Tingling\", \"Swollen Ankles\",\n",
    "    \"Irregular Heartbeat\", \"Coughing up Blood\", \"Blood in Stool\",\n",
    "    \"Blood in Vomit\", \"Unexplained Weight Gain\", \"Heavy Menstrual Bleeding\",\n",
    "    \"Breast Changes\", \"Nipple Discharge\", \"Pelvic Pressure\",\n",
    "    \"Shortened Menstrual Periods\", \"Hot Flashes\", \"Night Sweats\",\n",
    "    \"Insomnia\", \"Vaginal Dryness\", \"Painful Urination\",\n",
    "    \"Painful Bowel Movements\", \"Bloating\", \"Abdominal Cramps\",\n",
    "    \"Feeling Full Quickly\", \"Constant Hunger\", \"Change in Bowel Habits\",\n",
    "    \"Swollen Legs\", \"Swollen Hands\", \"Frequent Bruising\",\n",
    "    \"Difficulty Walking\", \"Balance Problems\", \"Numbness in Extremities\",\n",
    "    \"Vision Changes\", \"Hearing Loss\", \"Ringing in Ears\", \"Chest Pressure\",\n",
    "    \"Heartburn\", \"Indigestion\", \"Bloody Stool\", \"Bloody Urine\",\n",
    "    \"Abnormal Bleeding\", \"Bruising Under the Skin\",\n",
    "    \"Increased Urination at Night\",\n",
    "\n",
    "]\n",
    "priority_levels = [\n",
    "    1,  # Fever\n",
    "    2,  # Cough\n",
    "    2,  # Headache\n",
    "    2,  # Fatigue\n",
    "    2,  # Sore Throat\n",
    "    1,  # Shortness of Breath\n",
    "    2,  # Muscle Pain\n",
    "    1,  # Chills\n",
    "    3,  # Loss of Taste\n",
    "    3,  # Loss of Smell\n",
    "    2,  # Nausea\n",
    "    1,  # Vomiting\n",
    "    1,  # Diarrhea\n",
    "    2,  # Abdominal Pain\n",
    "    2,  # Rash\n",
    "    1,  # Chest Pain\n",
    "    2,  # Dizziness\n",
    "    2,  # Confusion\n",
    "    2,  # Swollen Lymph Nodes\n",
    "    2,  # Joint Pain\n",
    "    2,  # Blurred Vision\n",
    "    1,  # Seizures\n",
    "    1,  # Difficulty Swallowing\n",
    "    1,  # Difficulty Breathing\n",
    "    2,  # Irritability\n",
    "    2,  # Memory Problems\n",
    "    2,  # Back Pain\n",
    "    3,  # Frequent Urination\n",
    "    2,  # Night Sweats\n",
    "    3,  # Unintended Weight Loss\n",
    "    3,  # Excessive Thirst\n",
    "    3,  # Excessive Hunger\n",
    "    2,  # Frequent Infections\n",
    "    2,  # Bruising Easily\n",
    "    1,  # Unexplained Bleeding\n",
    "    2,  # Swollen Joints\n",
    "    1,  # Chest Tightness\n",
    "    3,  # Pale Skin\n",
    "    3,  # Cold Hands and Feet\n",
    "    2,  # Hair Loss\n",
    "    2,  # Frequent Headaches\n",
    "    2,  # Nosebleeds\n",
    "    2,  # Frequent Sore Throat\n",
    "    2,  # Weakness\n",
    "    1,  # Yellowing of the Skin and Eyes (Jaundice)\n",
    "    3,  # Swollen Abdomen\n",
    "    2,  # Itchy Skin\n",
    "    2,  # Swollen Glands\n",
    "    2,  # Frequent Fever\n",
    "    1,  # Frequent Chills\n",
    "    2,  # Muscle Weakness\n",
    "    1,  # Dry Cough\n",
    "    1,  # Wheezing\n",
    "    1,  # Blood in Urine\n",
    "    1,  # Difficulty Urinating\n",
    "    2,  # Dribbling Urine\n",
    "    1,  # Testicular Pain\n",
    "    1,  # Erectile Dysfunction\n",
    "    2,  # Abnormal Vaginal Discharge\n",
    "    2,  # Painful Intercourse\n",
    "    2,  # Irregular Menstrual Periods\n",
    "    2,  # Unexplained Infertility\n",
    "    2,  # Lower Back Pain\n",
    "    2,  # Pelvic Pain\n",
    "    3,  # Frequent Hiccups\n",
    "    2,  # Difficulty Speaking\n",
    "    2,  # Slurred Speech\n",
    "    2,  # Tremors\n",
    "    2,  # Stiffness\n",
    "    2,  # Loss of Balance\n",
    "    2,  # Depression\n",
    "    2,  # Anxiety\n",
    "    2,  # Mood Swings\n",
    "    2,  # Sleep Problems\n",
    "    2,  # Feeling Hopeless\n",
    "    2,  # Loss of Interest\n",
    "    1,  # Suicidal Thoughts\n",
    "    2,  # Agitation\n",
    "    2,  # Poor Concentration\n",
    "    1,  # Panic Attacks\n",
    "    1,  # Rapid Heartbeat\n",
    "    2,  # Chest Discomfort\n",
    "    2,  # Numbness or Tingling\n",
    "    2,  # Swollen Ankles\n",
    "    1,  # Irregular Heartbeat\n",
    "    1,  # Coughing up Blood\n",
    "    1,  # Blood in Stool\n",
    "    1,  # Blood in Vomit\n",
    "    3,  # Unexplained Weight Gain\n",
    "    3,  # Heavy Menstrual Bleeding\n",
    "    2,  # Breast Changes\n",
    "    2,  # Nipple Discharge\n",
    "    2,  # Pelvic Pressure\n",
    "    3,  # Shortened Menstrual Periods\n",
    "    3,  # Hot Flashes\n",
    "    2,  # Night Sweats\n",
    "    2,  # Insomnia\n",
    "    2,  # Vaginal Dryness\n",
    "    2,  # Painful Urination\n",
    "    2,  # Painful Bowel Movements\n",
    "    2,  # Bloating\n",
    "    2,  # Abdominal Cramps\n",
    "    2,  # Feeling Full Quickly\n",
    "    2,  # Constant Hunger\n",
    "    2,  # Change in Bowel Habits\n",
    "    2,  # Swollen Legs\n",
    "    2,  # Swollen Hands\n",
    "    2,  # Frequent Bruising\n",
    "    2,  # Difficulty Walking\n",
    "    2,  # Balance Problems\n",
    "    2,  # Numbness in Extremities\n",
    "    2,  # Vision Changes\n",
    "    2,  # Hearing Loss\n",
    "    2,  # Ringing in Ears\n",
    "    2,  # Chest Pressure\n",
    "    2,  # Heartburn\n",
    "    2,  # Indigestion\n",
    "    1,  # Bloody Stool\n",
    "    1,  # Bloody Urine\n",
    "    1,  # Abnormal Bleeding\n",
    "    1,  # Bruising Under the Skin\n",
    "    3,  # Increased Urination at Night\n",
    "]\n",
    "print(len(priority_levels))\n",
    "data = {\n",
    "    'Symptoms': symptoms,\n",
    "    'Priority_Level': priority_levels\n",
    "}\n",
    "df = pd.DataFrame(data)\n"
   ]
  },
  {
   "cell_type": "code",
   "execution_count": 43,
   "id": "df656429-0fb0-44ea-9cd0-5bad2e7f1853",
   "metadata": {},
   "outputs": [
    {
     "name": "stdout",
     "output_type": "stream",
     "text": [
      "                         Symptoms  Priority_Level\n",
      "0                           Fever               1\n",
      "1                           Cough               2\n",
      "2                        Headache               2\n",
      "3                         Fatigue               2\n",
      "4                     Sore Throat               2\n",
      "..                            ...             ...\n",
      "117                  Bloody Stool               1\n",
      "118                  Bloody Urine               1\n",
      "119             Abnormal Bleeding               1\n",
      "120       Bruising Under the Skin               1\n",
      "121  Increased Urination at Night               3\n",
      "\n",
      "[122 rows x 2 columns]\n"
     ]
    }
   ],
   "source": [
    "print(df)\n"
   ]
  },
  {
   "cell_type": "code",
   "execution_count": 54,
   "id": "e640e35f-3ece-458c-adb9-366ff632ccb8",
   "metadata": {},
   "outputs": [],
   "source": [
    "# Initialize the CountVectorizer\n",
    "vectorizer = CountVectorizer()\n",
    "\n",
    "# Fit and transform the symptoms to a bag-of-words representation\n",
    "X = vectorizer.fit_transform(df['Symptoms'])\n",
    "\n",
    "# Split the data into features (X) and target (y)\n",
    "y = df['Priority_Level']\n",
    "\n",
    "# Split the data into training and testing sets\n",
    "X_train, X_test, y_train, y_test = train_test_split(X, y, test_size=0.2, random_state=42)\n"
   ]
  },
  {
   "cell_type": "code",
   "execution_count": 55,
   "id": "17b8af65-471b-42df-94e8-70051c06c0b8",
   "metadata": {},
   "outputs": [
    {
     "data": {
      "text/html": [
       "<style>#sk-container-id-4 {color: black;}#sk-container-id-4 pre{padding: 0;}#sk-container-id-4 div.sk-toggleable {background-color: white;}#sk-container-id-4 label.sk-toggleable__label {cursor: pointer;display: block;width: 100%;margin-bottom: 0;padding: 0.3em;box-sizing: border-box;text-align: center;}#sk-container-id-4 label.sk-toggleable__label-arrow:before {content: \"▸\";float: left;margin-right: 0.25em;color: #696969;}#sk-container-id-4 label.sk-toggleable__label-arrow:hover:before {color: black;}#sk-container-id-4 div.sk-estimator:hover label.sk-toggleable__label-arrow:before {color: black;}#sk-container-id-4 div.sk-toggleable__content {max-height: 0;max-width: 0;overflow: hidden;text-align: left;background-color: #f0f8ff;}#sk-container-id-4 div.sk-toggleable__content pre {margin: 0.2em;color: black;border-radius: 0.25em;background-color: #f0f8ff;}#sk-container-id-4 input.sk-toggleable__control:checked~div.sk-toggleable__content {max-height: 200px;max-width: 100%;overflow: auto;}#sk-container-id-4 input.sk-toggleable__control:checked~label.sk-toggleable__label-arrow:before {content: \"▾\";}#sk-container-id-4 div.sk-estimator input.sk-toggleable__control:checked~label.sk-toggleable__label {background-color: #d4ebff;}#sk-container-id-4 div.sk-label input.sk-toggleable__control:checked~label.sk-toggleable__label {background-color: #d4ebff;}#sk-container-id-4 input.sk-hidden--visually {border: 0;clip: rect(1px 1px 1px 1px);clip: rect(1px, 1px, 1px, 1px);height: 1px;margin: -1px;overflow: hidden;padding: 0;position: absolute;width: 1px;}#sk-container-id-4 div.sk-estimator {font-family: monospace;background-color: #f0f8ff;border: 1px dotted black;border-radius: 0.25em;box-sizing: border-box;margin-bottom: 0.5em;}#sk-container-id-4 div.sk-estimator:hover {background-color: #d4ebff;}#sk-container-id-4 div.sk-parallel-item::after {content: \"\";width: 100%;border-bottom: 1px solid gray;flex-grow: 1;}#sk-container-id-4 div.sk-label:hover label.sk-toggleable__label {background-color: #d4ebff;}#sk-container-id-4 div.sk-serial::before {content: \"\";position: absolute;border-left: 1px solid gray;box-sizing: border-box;top: 0;bottom: 0;left: 50%;z-index: 0;}#sk-container-id-4 div.sk-serial {display: flex;flex-direction: column;align-items: center;background-color: white;padding-right: 0.2em;padding-left: 0.2em;position: relative;}#sk-container-id-4 div.sk-item {position: relative;z-index: 1;}#sk-container-id-4 div.sk-parallel {display: flex;align-items: stretch;justify-content: center;background-color: white;position: relative;}#sk-container-id-4 div.sk-item::before, #sk-container-id-4 div.sk-parallel-item::before {content: \"\";position: absolute;border-left: 1px solid gray;box-sizing: border-box;top: 0;bottom: 0;left: 50%;z-index: -1;}#sk-container-id-4 div.sk-parallel-item {display: flex;flex-direction: column;z-index: 1;position: relative;background-color: white;}#sk-container-id-4 div.sk-parallel-item:first-child::after {align-self: flex-end;width: 50%;}#sk-container-id-4 div.sk-parallel-item:last-child::after {align-self: flex-start;width: 50%;}#sk-container-id-4 div.sk-parallel-item:only-child::after {width: 0;}#sk-container-id-4 div.sk-dashed-wrapped {border: 1px dashed gray;margin: 0 0.4em 0.5em 0.4em;box-sizing: border-box;padding-bottom: 0.4em;background-color: white;}#sk-container-id-4 div.sk-label label {font-family: monospace;font-weight: bold;display: inline-block;line-height: 1.2em;}#sk-container-id-4 div.sk-label-container {text-align: center;}#sk-container-id-4 div.sk-container {/* jupyter's `normalize.less` sets `[hidden] { display: none; }` but bootstrap.min.css set `[hidden] { display: none !important; }` so we also need the `!important` here to be able to override the default hidden behavior on the sphinx rendered scikit-learn.org. See: https://github.com/scikit-learn/scikit-learn/issues/21755 */display: inline-block !important;position: relative;}#sk-container-id-4 div.sk-text-repr-fallback {display: none;}</style><div id=\"sk-container-id-4\" class=\"sk-top-container\"><div class=\"sk-text-repr-fallback\"><pre>LogisticRegression()</pre><b>In a Jupyter environment, please rerun this cell to show the HTML representation or trust the notebook. <br />On GitHub, the HTML representation is unable to render, please try loading this page with nbviewer.org.</b></div><div class=\"sk-container\" hidden><div class=\"sk-item\"><div class=\"sk-estimator sk-toggleable\"><input class=\"sk-toggleable__control sk-hidden--visually\" id=\"sk-estimator-id-4\" type=\"checkbox\" checked><label for=\"sk-estimator-id-4\" class=\"sk-toggleable__label sk-toggleable__label-arrow\">LogisticRegression</label><div class=\"sk-toggleable__content\"><pre>LogisticRegression()</pre></div></div></div></div></div>"
      ],
      "text/plain": [
       "LogisticRegression()"
      ]
     },
     "execution_count": 55,
     "metadata": {},
     "output_type": "execute_result"
    }
   ],
   "source": [
    "# Initialize the logistic regression model\n",
    "model = LogisticRegression()\n",
    "\n",
    "# Train the model using the training data\n",
    "model.fit(X_train, y_train)\n"
   ]
  },
  {
   "cell_type": "code",
   "execution_count": 56,
   "id": "0b7884a6-485a-466e-bc09-1b1855b02490",
   "metadata": {},
   "outputs": [],
   "source": [
    "# Make predictions on the test set\n",
    "y_pred = model.predict(X_test)\n"
   ]
  },
  {
   "cell_type": "code",
   "execution_count": 47,
   "id": "efa4c688-4467-4492-b000-414638407ef2",
   "metadata": {},
   "outputs": [],
   "source": [
    "# Convert the X_test sparse matrix to a DataFrame\n",
    "X_test_df = pd.DataFrame(X_test.toarray(), columns=vectorizer.get_feature_names_out())"
   ]
  },
  {
   "cell_type": "code",
   "execution_count": 57,
   "id": "e2c2a315-eebe-413d-8941-b479ff2dcbea",
   "metadata": {},
   "outputs": [],
   "source": [
    "# Get the appointment booking time as the index of the test set DataFrame\n",
    "appointment_times = X_test_df.index"
   ]
  },
  {
   "cell_type": "code",
   "execution_count": 58,
   "id": "9bc15bfd-8d14-4771-861a-3d2747ef39df",
   "metadata": {},
   "outputs": [],
   "source": [
    "# Create a DataFrame with the symptoms, predicted priority levels, and appointment booking time\n",
    "X_test_with_time = pd.DataFrame({\n",
    "    'Symptoms': df.loc[X_test_df.index, 'Symptoms'],\n",
    "    'Predicted_Priority': y_pred,\n",
    "    'Appointment_Time': appointment_times\n",
    "})"
   ]
  },
  {
   "cell_type": "code",
   "execution_count": 59,
   "id": "cfe3ddf8-52dd-4fb0-91dc-c7dea2dfddec",
   "metadata": {},
   "outputs": [],
   "source": [
    "# Sort the test set by predicted priority levels and appointment booking time\n",
    "X_test_with_time = X_test_with_time.sort_values(by=['Predicted_Priority', 'Appointment_Time'])\n"
   ]
  },
  {
   "cell_type": "code",
   "execution_count": 60,
   "id": "1f34e1d5-cd86-452c-9739-fe3b0cdb3368",
   "metadata": {},
   "outputs": [],
   "source": [
    "# Assign tokens based on the order of booking\n",
    "X_test_with_time['Token'] = range(1, len(X_test_with_time) + 1)"
   ]
  },
  {
   "cell_type": "code",
   "execution_count": null,
   "id": "9d76092b",
   "metadata": {},
   "outputs": [],
   "source": []
  },
  {
   "cell_type": "code",
   "execution_count": 62,
   "id": "ab1da65a-b069-43d3-bc92-604784c4a1df",
   "metadata": {},
   "outputs": [
    {
     "name": "stdout",
     "output_type": "stream",
     "text": [
      "                 Symptoms  Predicted_Priority  Token\n",
      "10                 Nausea                   1      1\n",
      "0                   Fever                   2      2\n",
      "1                   Cough                   2      3\n",
      "2                Headache                   2      4\n",
      "3                 Fatigue                   2      5\n",
      "4             Sore Throat                   2      6\n",
      "5     Shortness of Breath                   2      7\n",
      "6             Muscle Pain                   2      8\n",
      "7                  Chills                   2      9\n",
      "8           Loss of Taste                   2     10\n",
      "9           Loss of Smell                   2     11\n",
      "11               Vomiting                   2     12\n",
      "12               Diarrhea                   2     13\n",
      "13         Abdominal Pain                   2     14\n",
      "14                   Rash                   2     15\n",
      "15             Chest Pain                   2     16\n",
      "16              Dizziness                   2     17\n",
      "17              Confusion                   2     18\n",
      "18    Swollen Lymph Nodes                   2     19\n",
      "19             Joint Pain                   2     20\n",
      "20         Blurred Vision                   2     21\n",
      "22  Difficulty Swallowing                   2     22\n",
      "23   Difficulty Breathing                   2     23\n",
      "24           Irritability                   2     24\n",
      "21               Seizures                   3     25\n"
     ]
    }
   ],
   "source": [
    "print(X_test_with_time[['Symptoms', 'Predicted_Priority', 'Token']])"
   ]
  },
  {
   "cell_type": "code",
   "execution_count": null,
   "id": "8b9020ca",
   "metadata": {},
   "outputs": [],
   "source": []
  }
 ],
 "metadata": {
  "kernelspec": {
   "display_name": "Python 3 (ipykernel)",
   "language": "python",
   "name": "python3"
  },
  "language_info": {
   "codemirror_mode": {
    "name": "ipython",
    "version": 3
   },
   "file_extension": ".py",
   "mimetype": "text/x-python",
   "name": "python",
   "nbconvert_exporter": "python",
   "pygments_lexer": "ipython3",
   "version": "3.10.11"
  }
 },
 "nbformat": 4,
 "nbformat_minor": 5
}
