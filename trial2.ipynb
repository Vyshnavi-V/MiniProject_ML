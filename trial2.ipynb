{
 "cells": [
  {
   "cell_type": "code",
   "execution_count": 1,
   "id": "daa0fe1e-2b4a-4930-863a-8f498ebc5d52",
   "metadata": {},
   "outputs": [],
   "source": [
    "import pandas as pd\n",
    "import numpy as np\n",
    "from sklearn.linear_model import LogisticRegression\n",
    "from sklearn.model_selection import train_test_split\n",
    "from sklearn.feature_extraction.text import CountVectorizer\n",
    "import random\n",
    "\n"
   ]
  },
  {
   "cell_type": "code",
   "execution_count": 6,
   "id": "4b07f390-e493-437c-b92a-befe53ccd82a",
   "metadata": {},
   "outputs": [
    {
     "name": "stdout",
     "output_type": "stream",
     "text": [
      "122\n"
     ]
    }
   ],
   "source": [
    "\n",
    "symptoms = [\n",
    "    \"Fever\", \"Cough\", \"Headache\", \"Fatigue\", \"Sore Throat\",\n",
    "    \"Shortness of Breath\", \"Muscle Pain\", \"Chills\", \"Loss of Taste\",\n",
    "    \"Loss of Smell\", \"Nausea\", \"Vomiting\", \"Diarrhea\", \"Abdominal Pain\",\n",
    "    \"Rash\", \"Chest Pain\", \"Dizziness\", \"Confusion\", \"Swollen Lymph Nodes\",\n",
    "    \"Joint Pain\", \"Blurred Vision\", \"Seizures\", \"Difficulty Swallowing\",\n",
    "    \"Difficulty Breathing\", \"Irritability\", \"Memory Problems\", \"Back Pain\",\n",
    "    \"Frequent Urination\", \"Night Sweats\", \"Unintended Weight Loss\",\n",
    "    \"Excessive Thirst\", \"Excessive Hunger\", \"Frequent Infections\",\n",
    "    \"Bruising Easily\", \"Unexplained Bleeding\", \"Swollen Joints\",\n",
    "    \"Chest Tightness\", \"Pale Skin\", \"Cold Hands and Feet\", \"Hair Loss\",\n",
    "    \"Frequent Headaches\", \"Nosebleeds\", \"Frequent Sore Throat\",\n",
    "    \"Weakness\", \"Yellowing of the Skin and Eyes (Jaundice)\",\n",
    "    \"Swollen Abdomen\", \"Itchy Skin\", \"Swollen Glands\", \"Frequent Fever\",\n",
    "    \"Frequent Chills\", \"Muscle Weakness\", \"Dry Cough\", \"Wheezing\",\n",
    "    \"Blood in Urine\", \"Difficulty Urinating\", \"Dribbling Urine\",\n",
    "    \"Testicular Pain\", \"Erectile Dysfunction\", \"Abnormal Vaginal Discharge\",\n",
    "    \"Painful Intercourse\", \"Irregular Menstrual Periods\",\n",
    "    \"Unexplained Infertility\", \"Lower Back Pain\", \"Pelvic Pain\",\n",
    "    \"Frequent Hiccups\", \"Difficulty Speaking\", \"Slurred Speech\",\n",
    "    \"Tremors\", \"Stiffness\", \"Loss of Balance\", \"Depression\",\n",
    "    \"Anxiety\", \"Mood Swings\", \"Sleep Problems\", \"Feeling Hopeless\",\n",
    "    \"Loss of Interest\", \"Suicidal Thoughts\", \"Agitation\",\n",
    "    \"Poor Concentration\", \"Panic Attacks\", \"Rapid Heartbeat\",\n",
    "    \"Chest Discomfort\", \"Numbness or Tingling\", \"Swollen Ankles\",\n",
    "    \"Irregular Heartbeat\", \"Coughing up Blood\", \"Blood in Stool\",\n",
    "    \"Blood in Vomit\", \"Unexplained Weight Gain\", \"Heavy Menstrual Bleeding\",\n",
    "    \"Breast Changes\", \"Nipple Discharge\", \"Pelvic Pressure\",\n",
    "    \"Shortened Menstrual Periods\", \"Hot Flashes\", \"Night Sweats\",\n",
    "    \"Insomnia\", \"Vaginal Dryness\", \"Painful Urination\",\n",
    "    \"Painful Bowel Movements\", \"Bloating\", \"Abdominal Cramps\",\n",
    "    \"Feeling Full Quickly\", \"Constant Hunger\", \"Change in Bowel Habits\",\n",
    "    \"Swollen Legs\", \"Swollen Hands\", \"Frequent Bruising\",\n",
    "    \"Difficulty Walking\", \"Balance Problems\", \"Numbness in Extremities\",\n",
    "    \"Vision Changes\", \"Hearing Loss\", \"Ringing in Ears\", \"Chest Pressure\",\n",
    "    \"Heartburn\", \"Indigestion\", \"Bloody Stool\", \"Bloody Urine\",\n",
    "    \"Abnormal Bleeding\", \"Bruising Under the Skin\",\n",
    "    \"Increased Urination at Night\",\n",
    "\n",
    "]\n",
    "priority_levels = [\n",
    "    1,  # Fever\n",
    "    1,  # Cough\n",
    "    1,  # Headache\n",
    "    1,  # Fatigue\n",
    "    1,  # Sore Throat\n",
    "    3,  # Shortness of Breath\n",
    "    2,  # Muscle Pain\n",
    "    3,  # Chills\n",
    "    2, # Loss of Taste\n",
    "    3,  # Loss of Smell\n",
    "    1,  # Nausea\n",
    "    2,  # Vomiting\n",
    "    2,  # Diarrhea\n",
    "    2,  # Abdominal Pain\n",
    "    2,  # Rash\n",
    "    4,  # Chest Pain\n",
    "    4,  # Dizziness\n",
    "    3,  # Confusion\n",
    "    3,  # Swollen Lymph Nodes\n",
    "    2,  # Joint Pain\n",
    "    4,  # Blurred Vision\n",
    "    7,  # Seizures\n",
    "    7,  # Difficulty Swallowing\n",
    "    3,  # Difficulty Breathing\n",
    "    3,  # Irritability\n",
    "    4,  # Memory Problems\n",
    "    2,  # Back Pain\n",
    "    3,  # Frequent Urination\n",
    "    2,  # Night Sweats\n",
    "    5,  # Unintended Weight Loss\n",
    "    3,  # Excessive Thirst\n",
    "    3,  # Excessive Hunger\n",
    "    5,  # Frequent Infections\n",
    "    4,  # Bruising Easily\n",
    "    6,  # Unexplained Bleeding\n",
    "    4,  # Swollen Joints\n",
    "    7,  # Chest Tightness\n",
    "    5,  # Pale Skin\n",
    "    4,  # Cold Hands and Feet\n",
    "    3,  # Hair Loss\n",
    "    3,  # Frequent Headaches\n",
    "    5,  # Nosebleeds\n",
    "    3,  # Frequent Sore Throat\n",
    "    2,  # Weakness\n",
    "    7,  # Yellowing of the Skin and Eyes (Jaundice)\n",
    "    8,  # Swollen Abdomen\n",
    "    4,  # Itchy Skin\n",
    "    4,  # Swollen Glands\n",
    "    4,  # Frequent Fever\n",
    "    5,  # Frequent Chills\n",
    "    4,  # Muscle Weakness\n",
    "    1,  # Dry Cough\n",
    "    7,  # Wheezing\n",
    "    8,  # Blood in Urine\n",
    "    7, # Difficulty Urinating\n",
    "    5,  # Dribbling Urine\n",
    "    7,  # Testicular Pain\n",
    "    5,  # Erectile Dysfunction\n",
    "    4,  # Abnormal Vaginal Discharge\n",
    "    3,  # Painful Intercourse\n",
    "    3,  # Irregular Menstrual Periods\n",
    "    5,  # Unexplained Infertility\n",
    "    4,  # Lower Back Pain\n",
    "    5,  # Pelvic Pain\n",
    "    3,  # Frequent Hiccups\n",
    "    6,  # Difficulty Speaking\n",
    "    7,  # Slurred Speech\n",
    "    5,  # Tremors\n",
    "    5,  # Stiffness\n",
    "    4,  # Loss of Balance\n",
    "    6,  # Depression\n",
    "    6,  # Anxiety\n",
    "    4,  # Mood Swings\n",
    "    4,  # Sleep Problems\n",
    "    6,  # Feeling Hopeless\n",
    "    6,  # Loss of Interest\n",
    "    7,  # Suicidal Thoughts\n",
    "    6,  # Agitation\n",
    "    5,  # Poor Concentration\n",
    "    5,  # Panic Attacks\n",
    "    7,  # Rapid Heartbeat\n",
    "    7,  # Chest Discomfort\n",
    "    4,  # Numbness or Tingling\n",
    "    5,  # Swollen Ankles\n",
    "    7, # Irregular Heartbeat\n",
    "    8,  # Coughing up Blood\n",
    "    8,  # Blood in Stool\n",
    "    8,  # Blood in Vomit\n",
    "    4,  # Unexplained Weight Gain\n",
    "    4,  # Heavy Menstrual Bleeding\n",
    "    7,  # Breast Changes\n",
    "    7,  # Nipple Discharge\n",
    "    8,  # Pelvic Pressure\n",
    "    3,  # Shortened Menstrual Periods\n",
    "    3,  # Hot Flashes\n",
    "    5,  # Night Sweats\n",
    "    2,  # Insomnia\n",
    "    2,  # Vaginal Dryness\n",
    "    4,  # Painful Urination\n",
    "    3,  # Painful Bowel Movements\n",
    "    3,  # Bloating\n",
    "    2,  # Abdominal Cramps\n",
    "    2,  # Feeling Full Quickly\n",
    "    2,  # Constant Hunger\n",
    "    3,   # Change in Bowel Habits\n",
    "    4,  # Swollen Legs\n",
    "    4,  # Swollen Hands\n",
    "    5,  # Frequent Bruising\n",
    "    4,  # Difficulty Walking\n",
    "    4,  # Balance Problems\n",
    "    4,  # Numbness in Extremities\n",
    "    3,  # Vision Changes\n",
    "    5,  # Hearing Loss\n",
    "    5,  # Ringing in Ears\n",
    "    7,  # Chest Pressure\n",
    "    3,  # Heartburn\n",
    "    2,  # Indigestion\n",
    "    8,  # Bloody Stool\n",
    "    8,  # Bloody Urine\n",
    "    8,  # Abnormal Bleeding\n",
    "    8,  # Bruising Under the Skin\n",
    "    5  # Increased Urination at Night\n",
    "]\n",
    "data = {\n",
    "    'Symptoms': symptoms,\n",
    "    'Priority_Level': priority_levels\n",
    "}\n",
    "df = pd.DataFrame(data)\n"
   ]
  },
  {
   "cell_type": "code",
   "execution_count": 9,
   "id": "df656429-0fb0-44ea-9cd0-5bad2e7f1853",
   "metadata": {},
   "outputs": [
    {
     "name": "stdout",
     "output_type": "stream",
     "text": [
      "                         Symptoms  Priority_Level\n",
      "0                           Fever               1\n",
      "1                           Cough               1\n",
      "2                        Headache               1\n",
      "3                         Fatigue               1\n",
      "4                     Sore Throat               1\n",
      "..                            ...             ...\n",
      "117                  Bloody Stool               8\n",
      "118                  Bloody Urine               8\n",
      "119             Abnormal Bleeding               8\n",
      "120       Bruising Under the Skin               8\n",
      "121  Increased Urination at Night               5\n",
      "\n",
      "[122 rows x 2 columns]\n"
     ]
    }
   ],
   "source": [
    "print(df)\n"
   ]
  },
  {
   "cell_type": "code",
   "execution_count": 10,
   "id": "e640e35f-3ece-458c-adb9-366ff632ccb8",
   "metadata": {},
   "outputs": [],
   "source": [
    "# Initialize the CountVectorizer\n",
    "vectorizer = CountVectorizer()\n",
    "\n",
    "# Fit and transform the symptoms to a bag-of-words representation\n",
    "X = vectorizer.fit_transform(df['Symptoms'])\n",
    "\n",
    "# Split the data into features (X) and target (y)\n",
    "y = df['Priority_Level']\n",
    "\n",
    "# Split the data into training and testing sets\n",
    "X_train, X_test, y_train, y_test = train_test_split(X, y, test_size=0.2, random_state=42)\n"
   ]
  },
  {
   "cell_type": "code",
   "execution_count": 11,
   "id": "17b8af65-471b-42df-94e8-70051c06c0b8",
   "metadata": {},
   "outputs": [
    {
     "data": {
      "text/html": [
       "<style>#sk-container-id-1 {color: black;}#sk-container-id-1 pre{padding: 0;}#sk-container-id-1 div.sk-toggleable {background-color: white;}#sk-container-id-1 label.sk-toggleable__label {cursor: pointer;display: block;width: 100%;margin-bottom: 0;padding: 0.3em;box-sizing: border-box;text-align: center;}#sk-container-id-1 label.sk-toggleable__label-arrow:before {content: \"▸\";float: left;margin-right: 0.25em;color: #696969;}#sk-container-id-1 label.sk-toggleable__label-arrow:hover:before {color: black;}#sk-container-id-1 div.sk-estimator:hover label.sk-toggleable__label-arrow:before {color: black;}#sk-container-id-1 div.sk-toggleable__content {max-height: 0;max-width: 0;overflow: hidden;text-align: left;background-color: #f0f8ff;}#sk-container-id-1 div.sk-toggleable__content pre {margin: 0.2em;color: black;border-radius: 0.25em;background-color: #f0f8ff;}#sk-container-id-1 input.sk-toggleable__control:checked~div.sk-toggleable__content {max-height: 200px;max-width: 100%;overflow: auto;}#sk-container-id-1 input.sk-toggleable__control:checked~label.sk-toggleable__label-arrow:before {content: \"▾\";}#sk-container-id-1 div.sk-estimator input.sk-toggleable__control:checked~label.sk-toggleable__label {background-color: #d4ebff;}#sk-container-id-1 div.sk-label input.sk-toggleable__control:checked~label.sk-toggleable__label {background-color: #d4ebff;}#sk-container-id-1 input.sk-hidden--visually {border: 0;clip: rect(1px 1px 1px 1px);clip: rect(1px, 1px, 1px, 1px);height: 1px;margin: -1px;overflow: hidden;padding: 0;position: absolute;width: 1px;}#sk-container-id-1 div.sk-estimator {font-family: monospace;background-color: #f0f8ff;border: 1px dotted black;border-radius: 0.25em;box-sizing: border-box;margin-bottom: 0.5em;}#sk-container-id-1 div.sk-estimator:hover {background-color: #d4ebff;}#sk-container-id-1 div.sk-parallel-item::after {content: \"\";width: 100%;border-bottom: 1px solid gray;flex-grow: 1;}#sk-container-id-1 div.sk-label:hover label.sk-toggleable__label {background-color: #d4ebff;}#sk-container-id-1 div.sk-serial::before {content: \"\";position: absolute;border-left: 1px solid gray;box-sizing: border-box;top: 0;bottom: 0;left: 50%;z-index: 0;}#sk-container-id-1 div.sk-serial {display: flex;flex-direction: column;align-items: center;background-color: white;padding-right: 0.2em;padding-left: 0.2em;position: relative;}#sk-container-id-1 div.sk-item {position: relative;z-index: 1;}#sk-container-id-1 div.sk-parallel {display: flex;align-items: stretch;justify-content: center;background-color: white;position: relative;}#sk-container-id-1 div.sk-item::before, #sk-container-id-1 div.sk-parallel-item::before {content: \"\";position: absolute;border-left: 1px solid gray;box-sizing: border-box;top: 0;bottom: 0;left: 50%;z-index: -1;}#sk-container-id-1 div.sk-parallel-item {display: flex;flex-direction: column;z-index: 1;position: relative;background-color: white;}#sk-container-id-1 div.sk-parallel-item:first-child::after {align-self: flex-end;width: 50%;}#sk-container-id-1 div.sk-parallel-item:last-child::after {align-self: flex-start;width: 50%;}#sk-container-id-1 div.sk-parallel-item:only-child::after {width: 0;}#sk-container-id-1 div.sk-dashed-wrapped {border: 1px dashed gray;margin: 0 0.4em 0.5em 0.4em;box-sizing: border-box;padding-bottom: 0.4em;background-color: white;}#sk-container-id-1 div.sk-label label {font-family: monospace;font-weight: bold;display: inline-block;line-height: 1.2em;}#sk-container-id-1 div.sk-label-container {text-align: center;}#sk-container-id-1 div.sk-container {/* jupyter's `normalize.less` sets `[hidden] { display: none; }` but bootstrap.min.css set `[hidden] { display: none !important; }` so we also need the `!important` here to be able to override the default hidden behavior on the sphinx rendered scikit-learn.org. See: https://github.com/scikit-learn/scikit-learn/issues/21755 */display: inline-block !important;position: relative;}#sk-container-id-1 div.sk-text-repr-fallback {display: none;}</style><div id=\"sk-container-id-1\" class=\"sk-top-container\"><div class=\"sk-text-repr-fallback\"><pre>LogisticRegression()</pre><b>In a Jupyter environment, please rerun this cell to show the HTML representation or trust the notebook. <br />On GitHub, the HTML representation is unable to render, please try loading this page with nbviewer.org.</b></div><div class=\"sk-container\" hidden><div class=\"sk-item\"><div class=\"sk-estimator sk-toggleable\"><input class=\"sk-toggleable__control sk-hidden--visually\" id=\"sk-estimator-id-1\" type=\"checkbox\" checked><label for=\"sk-estimator-id-1\" class=\"sk-toggleable__label sk-toggleable__label-arrow\">LogisticRegression</label><div class=\"sk-toggleable__content\"><pre>LogisticRegression()</pre></div></div></div></div></div>"
      ],
      "text/plain": [
       "LogisticRegression()"
      ]
     },
     "execution_count": 11,
     "metadata": {},
     "output_type": "execute_result"
    }
   ],
   "source": [
    "# Initialize the logistic regression model\n",
    "model = LogisticRegression()\n",
    "\n",
    "# Train the model using the training data\n",
    "model.fit(X_train, y_train)\n"
   ]
  },
  {
   "cell_type": "code",
   "execution_count": 12,
   "id": "0b7884a6-485a-466e-bc09-1b1855b02490",
   "metadata": {},
   "outputs": [],
   "source": [
    "# Make predictions on the test set\n",
    "y_pred = model.predict(X_test)\n"
   ]
  },
  {
   "cell_type": "code",
   "execution_count": 13,
   "id": "efa4c688-4467-4492-b000-414638407ef2",
   "metadata": {},
   "outputs": [],
   "source": [
    "# Convert the X_test sparse matrix to a DataFrame\n",
    "X_test_df = pd.DataFrame(X_test.toarray(), columns=vectorizer.get_feature_names_out())"
   ]
  },
  {
   "cell_type": "code",
   "execution_count": 14,
   "id": "e2c2a315-eebe-413d-8941-b479ff2dcbea",
   "metadata": {},
   "outputs": [],
   "source": [
    "# Get the appointment booking time as the index of the test set DataFrame\n",
    "appointment_times = X_test_df.index"
   ]
  },
  {
   "cell_type": "code",
   "execution_count": 15,
   "id": "9bc15bfd-8d14-4771-861a-3d2747ef39df",
   "metadata": {},
   "outputs": [],
   "source": [
    "# Create a DataFrame with the symptoms, predicted priority levels, and appointment booking time\n",
    "X_test_with_time = pd.DataFrame({\n",
    "    'Symptoms': df.loc[X_test_df.index, 'Symptoms'],\n",
    "    'Predicted_Priority': y_pred,\n",
    "    'Appointment_Time': appointment_times\n",
    "})"
   ]
  },
  {
   "cell_type": "code",
   "execution_count": 16,
   "id": "cfe3ddf8-52dd-4fb0-91dc-c7dea2dfddec",
   "metadata": {},
   "outputs": [],
   "source": [
    "# Sort the test set by predicted priority levels and appointment booking time\n",
    "X_test_with_time = X_test_with_time.sort_values(by=['Predicted_Priority', 'Appointment_Time'])\n"
   ]
  },
  {
   "cell_type": "code",
   "execution_count": 17,
   "id": "1f34e1d5-cd86-452c-9739-fe3b0cdb3368",
   "metadata": {},
   "outputs": [],
   "source": [
    "# Assign tokens based on the order of booking\n",
    "X_test_with_time['Token'] = range(1, len(X_test_with_time) + 1)"
   ]
  },
  {
   "cell_type": "code",
   "execution_count": null,
   "id": "9d76092b",
   "metadata": {},
   "outputs": [],
   "source": []
  },
  {
   "cell_type": "code",
   "execution_count": 18,
   "id": "ab1da65a-b069-43d3-bc92-604784c4a1df",
   "metadata": {},
   "outputs": [
    {
     "name": "stdout",
     "output_type": "stream",
     "text": [
      "                 Symptoms  Predicted_Priority  Token\n",
      "6             Muscle Pain                   2      1\n",
      "17              Confusion                   2      2\n",
      "20         Blurred Vision                   2      3\n",
      "3                 Fatigue                   3      4\n",
      "4             Sore Throat                   3      5\n",
      "5     Shortness of Breath                   3      6\n",
      "7                  Chills                   3      7\n",
      "8           Loss of Taste                   3      8\n",
      "13         Abdominal Pain                   3      9\n",
      "23   Difficulty Breathing                   3     10\n",
      "0                   Fever                   4     11\n",
      "1                   Cough                   4     12\n",
      "2                Headache                   4     13\n",
      "9           Loss of Smell                   4     14\n",
      "11               Vomiting                   4     15\n",
      "12               Diarrhea                   4     16\n",
      "14                   Rash                   4     17\n",
      "15             Chest Pain                   4     18\n",
      "16              Dizziness                   4     19\n",
      "18    Swollen Lymph Nodes                   4     20\n",
      "19             Joint Pain                   4     21\n",
      "21               Seizures                   4     22\n",
      "22  Difficulty Swallowing                   4     23\n",
      "24           Irritability                   4     24\n",
      "10                 Nausea                   8     25\n"
     ]
    }
   ],
   "source": [
    "print(X_test_with_time[['Symptoms', 'Predicted_Priority', 'Token']])"
   ]
  },
  {
   "cell_type": "code",
   "execution_count": null,
   "id": "8b9020ca",
   "metadata": {},
   "outputs": [],
   "source": []
  }
 ],
 "metadata": {
  "kernelspec": {
   "display_name": "Python 3 (ipykernel)",
   "language": "python",
   "name": "python3"
  },
  "language_info": {
   "codemirror_mode": {
    "name": "ipython",
    "version": 3
   },
   "file_extension": ".py",
   "mimetype": "text/x-python",
   "name": "python",
   "nbconvert_exporter": "python",
   "pygments_lexer": "ipython3",
   "version": "3.10.11"
  }
 },
 "nbformat": 4,
 "nbformat_minor": 5
}
